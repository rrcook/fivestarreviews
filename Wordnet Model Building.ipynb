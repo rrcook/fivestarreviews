{
 "cells": [
  {
   "cell_type": "markdown",
   "metadata": {},
   "source": [
    "Optional check of timing after each cell"
   ]
  },
  {
   "cell_type": "code",
   "execution_count": 1,
   "metadata": {},
   "outputs": [],
   "source": [
    "%load_ext autotime"
   ]
  },
  {
   "cell_type": "markdown",
   "metadata": {},
   "source": [
    "Necessary imports"
   ]
  },
  {
   "cell_type": "code",
   "execution_count": 2,
   "metadata": {},
   "outputs": [
    {
     "name": "stdout",
     "output_type": "stream",
     "text": [
      "time: 923 ms\n"
     ]
    }
   ],
   "source": [
    "import os\n",
    "import re, string\n",
    "import gzip\n",
    "from datetime import datetime\n",
    "import numpy as np\n",
    "import pandas as pd\n",
    "import cudf\n",
    "from pandas import Series, DataFrame\n",
    "import sklearn.utils\n",
    "import multiprocessing as mp\n",
    "from gensim.models.word2vec import Word2Vec\n",
    "from sklearn.ensemble import RandomForestClassifier\n",
    "from sklearn.externals import joblib\n",
    "from sklearn.metrics import accuracy_score, roc_auc_score, classification_report, roc_curve"
   ]
  },
  {
   "cell_type": "code",
   "execution_count": 3,
   "metadata": {},
   "outputs": [
    {
     "name": "stdout",
     "output_type": "stream",
     "text": [
      "Populating the interactive namespace from numpy and matplotlib\n",
      "time: 95.1 ms\n"
     ]
    },
    {
     "name": "stderr",
     "output_type": "stream",
     "text": [
      "/home/rrc/anaconda3/lib/python3.7/site-packages/IPython/core/magics/pylab.py:160: UserWarning: pylab import has clobbered these variables: ['datetime']\n",
      "`%matplotlib` prevents importing * from pylab and numpy\n",
      "  \"\\n`%matplotlib` prevents importing * from pylab and numpy\"\n"
     ]
    }
   ],
   "source": [
    "%pylab inline"
   ]
  },
  {
   "cell_type": "markdown",
   "metadata": {},
   "source": [
    "Set up the DATA_DIR environment variable to point to the review data. Used in all the code."
   ]
  },
  {
   "cell_type": "code",
   "execution_count": 4,
   "metadata": {},
   "outputs": [
    {
     "name": "stdout",
     "output_type": "stream",
     "text": [
      "/data/datasets/amazon/\n",
      "time: 732 µs\n"
     ]
    }
   ],
   "source": [
    "data_dir = os.environ['DATA_DIR'] + '/'\n",
    "print(data_dir)"
   ]
  },
  {
   "cell_type": "markdown",
   "metadata": {},
   "source": [
    "Handy function in case you want to see what the asin (amazon item) is."
   ]
  },
  {
   "cell_type": "code",
   "execution_count": 5,
   "metadata": {},
   "outputs": [
    {
     "name": "stdout",
     "output_type": "stream",
     "text": [
      "time: 2.75 ms\n"
     ]
    }
   ],
   "source": [
    "def amazon_url(item):\n",
    "    return 'https://www.amazon.com/s?k=' + str(item)"
   ]
  },
  {
   "cell_type": "markdown",
   "metadata": {},
   "source": [
    "Load the amazon books reviews. We're interested mainly in the 'reviewtext' and 'overall' (ratings) columns"
   ]
  },
  {
   "cell_type": "code",
   "execution_count": 6,
   "metadata": {},
   "outputs": [
    {
     "name": "stdout",
     "output_type": "stream",
     "text": [
      "time: 10.7 s\n"
     ]
    }
   ],
   "source": [
    "df = pd.read_csv(data_dir + 'reviews_1_to_5_shuffle.csv', usecols = ['asin', 'reviewText', 'overall']) # reviews_Books_5.csv"
   ]
  },
  {
   "cell_type": "markdown",
   "metadata": {},
   "source": [
    "Empty values in reviewText turn into \"fload\" NaN's. Make them empty strings."
   ]
  },
  {
   "cell_type": "code",
   "execution_count": 7,
   "metadata": {},
   "outputs": [
    {
     "name": "stdout",
     "output_type": "stream",
     "text": [
      "time: 390 ms\n"
     ]
    }
   ],
   "source": [
    "df['reviewText'] = df.reviewText.fillna('')"
   ]
  },
  {
   "cell_type": "markdown",
   "metadata": {},
   "source": [
    "Let's have a quick look, see if everything looks ok."
   ]
  },
  {
   "cell_type": "code",
   "execution_count": 8,
   "metadata": {},
   "outputs": [
    {
     "data": {
      "text/html": [
       "<div>\n",
       "<style scoped>\n",
       "    .dataframe tbody tr th:only-of-type {\n",
       "        vertical-align: middle;\n",
       "    }\n",
       "\n",
       "    .dataframe tbody tr th {\n",
       "        vertical-align: top;\n",
       "    }\n",
       "\n",
       "    .dataframe thead th {\n",
       "        text-align: right;\n",
       "    }\n",
       "</style>\n",
       "<table border=\"1\" class=\"dataframe\">\n",
       "  <thead>\n",
       "    <tr style=\"text-align: right;\">\n",
       "      <th></th>\n",
       "      <th>asin</th>\n",
       "      <th>reviewText</th>\n",
       "      <th>overall</th>\n",
       "    </tr>\n",
       "  </thead>\n",
       "  <tbody>\n",
       "    <tr>\n",
       "      <th>0</th>\n",
       "      <td>0446584703</td>\n",
       "      <td>I loved all of Chelsea Handler's other books b...</td>\n",
       "      <td>4.0</td>\n",
       "    </tr>\n",
       "    <tr>\n",
       "      <th>1</th>\n",
       "      <td>1494723352</td>\n",
       "      <td>Drunk on Wonderland, I picked up this book. It...</td>\n",
       "      <td>3.0</td>\n",
       "    </tr>\n",
       "    <tr>\n",
       "      <th>2</th>\n",
       "      <td>B00C83F9R6</td>\n",
       "      <td>I have wanted to do kettlebells for quite some...</td>\n",
       "      <td>5.0</td>\n",
       "    </tr>\n",
       "    <tr>\n",
       "      <th>3</th>\n",
       "      <td>047146256X</td>\n",
       "      <td>Wow it is sooooo obvious that all thease revie...</td>\n",
       "      <td>1.0</td>\n",
       "    </tr>\n",
       "    <tr>\n",
       "      <th>4</th>\n",
       "      <td>1451642865</td>\n",
       "      <td>I picked this book up because I heard Deneen B...</td>\n",
       "      <td>5.0</td>\n",
       "    </tr>\n",
       "    <tr>\n",
       "      <th>5</th>\n",
       "      <td>B00H3M921G</td>\n",
       "      <td>Caleb Donovan, the newest Prophet to the Realm...</td>\n",
       "      <td>5.0</td>\n",
       "    </tr>\n",
       "    <tr>\n",
       "      <th>6</th>\n",
       "      <td>1492206083</td>\n",
       "      <td>What a beautiful love story!  I loved reading ...</td>\n",
       "      <td>5.0</td>\n",
       "    </tr>\n",
       "    <tr>\n",
       "      <th>7</th>\n",
       "      <td>B009YLFHXG</td>\n",
       "      <td>This was a great read.. I loved this book. I c...</td>\n",
       "      <td>4.0</td>\n",
       "    </tr>\n",
       "    <tr>\n",
       "      <th>8</th>\n",
       "      <td>0061057568</td>\n",
       "      <td>I so enjoyed the snappy writing, but by the en...</td>\n",
       "      <td>3.0</td>\n",
       "    </tr>\n",
       "    <tr>\n",
       "      <th>9</th>\n",
       "      <td>1595145958</td>\n",
       "      <td>Pia is immortal,she is cause to exist with the...</td>\n",
       "      <td>2.0</td>\n",
       "    </tr>\n",
       "    <tr>\n",
       "      <th>10</th>\n",
       "      <td>0307337332</td>\n",
       "      <td>My daughter's new friend has 6 pugs, and she h...</td>\n",
       "      <td>5.0</td>\n",
       "    </tr>\n",
       "    <tr>\n",
       "      <th>11</th>\n",
       "      <td>014305760X</td>\n",
       "      <td>Nick Hornby's latest novel is the story of fou...</td>\n",
       "      <td>3.0</td>\n",
       "    </tr>\n",
       "    <tr>\n",
       "      <th>12</th>\n",
       "      <td>B007IO7C6Q</td>\n",
       "      <td>was a free book at first i wasnt sure i was go...</td>\n",
       "      <td>5.0</td>\n",
       "    </tr>\n",
       "    <tr>\n",
       "      <th>13</th>\n",
       "      <td>B00AWU7U7O</td>\n",
       "      <td>Interesting story line  the book was a fast re...</td>\n",
       "      <td>1.0</td>\n",
       "    </tr>\n",
       "    <tr>\n",
       "      <th>14</th>\n",
       "      <td>B009TAQWKE</td>\n",
       "      <td>This book was well written,  but somehow it di...</td>\n",
       "      <td>1.0</td>\n",
       "    </tr>\n",
       "    <tr>\n",
       "      <th>15</th>\n",
       "      <td>0451223691</td>\n",
       "      <td>This story captured my attention right from th...</td>\n",
       "      <td>5.0</td>\n",
       "    </tr>\n",
       "    <tr>\n",
       "      <th>16</th>\n",
       "      <td>B00DSAJ7JO</td>\n",
       "      <td>Liked the writing style of the author but not ...</td>\n",
       "      <td>3.0</td>\n",
       "    </tr>\n",
       "    <tr>\n",
       "      <th>17</th>\n",
       "      <td>1937041182</td>\n",
       "      <td>I enjoyed reading this Trilogy of books very m...</td>\n",
       "      <td>5.0</td>\n",
       "    </tr>\n",
       "    <tr>\n",
       "      <th>18</th>\n",
       "      <td>1936493446</td>\n",
       "      <td>On the back cover one reads \"Just 6 ingredient...</td>\n",
       "      <td>5.0</td>\n",
       "    </tr>\n",
       "    <tr>\n",
       "      <th>19</th>\n",
       "      <td>1480054542</td>\n",
       "      <td>Love the town description and the way she desc...</td>\n",
       "      <td>4.0</td>\n",
       "    </tr>\n",
       "    <tr>\n",
       "      <th>20</th>\n",
       "      <td>1935627988</td>\n",
       "      <td>This is a well done debut novel which starts u...</td>\n",
       "      <td>4.0</td>\n",
       "    </tr>\n",
       "    <tr>\n",
       "      <th>21</th>\n",
       "      <td>B00A8S6NAA</td>\n",
       "      <td>I read this book in on sitting it is a very sw...</td>\n",
       "      <td>4.0</td>\n",
       "    </tr>\n",
       "    <tr>\n",
       "      <th>22</th>\n",
       "      <td>0253216567</td>\n",
       "      <td>this book contains a great resource for inform...</td>\n",
       "      <td>4.0</td>\n",
       "    </tr>\n",
       "    <tr>\n",
       "      <th>23</th>\n",
       "      <td>0679442766</td>\n",
       "      <td>Oh, thank goodness for brick-n-mortar book sto...</td>\n",
       "      <td>1.0</td>\n",
       "    </tr>\n",
       "    <tr>\n",
       "      <th>24</th>\n",
       "      <td>0425232646</td>\n",
       "      <td>I was worried that due to the fact I hadn't re...</td>\n",
       "      <td>4.0</td>\n",
       "    </tr>\n",
       "    <tr>\n",
       "      <th>25</th>\n",
       "      <td>1558324240</td>\n",
       "      <td>1.) First of all, this book has no pictures.  ...</td>\n",
       "      <td>3.0</td>\n",
       "    </tr>\n",
       "    <tr>\n",
       "      <th>26</th>\n",
       "      <td>0151972036</td>\n",
       "      <td>I really was excited about this book. The firs...</td>\n",
       "      <td>2.0</td>\n",
       "    </tr>\n",
       "    <tr>\n",
       "      <th>27</th>\n",
       "      <td>0440235642</td>\n",
       "      <td>This book is a little verbose. There is a lot ...</td>\n",
       "      <td>3.0</td>\n",
       "    </tr>\n",
       "    <tr>\n",
       "      <th>28</th>\n",
       "      <td>038534239X</td>\n",
       "      <td>This book beckoned for two reasons: it is the ...</td>\n",
       "      <td>2.0</td>\n",
       "    </tr>\n",
       "    <tr>\n",
       "      <th>29</th>\n",
       "      <td>0679733787</td>\n",
       "      <td>Having studied Japanese literature for nearly ...</td>\n",
       "      <td>2.0</td>\n",
       "    </tr>\n",
       "    <tr>\n",
       "      <th>...</th>\n",
       "      <td>...</td>\n",
       "      <td>...</td>\n",
       "      <td>...</td>\n",
       "    </tr>\n",
       "    <tr>\n",
       "      <th>1619135</th>\n",
       "      <td>030794834X</td>\n",
       "      <td>Trite.  Redundant.  I get it.  Working in the ...</td>\n",
       "      <td>2.0</td>\n",
       "    </tr>\n",
       "    <tr>\n",
       "      <th>1619136</th>\n",
       "      <td>0373794061</td>\n",
       "      <td>I think I'd rather watch paint dry. I hope I d...</td>\n",
       "      <td>1.0</td>\n",
       "    </tr>\n",
       "    <tr>\n",
       "      <th>1619137</th>\n",
       "      <td>B008RGU0UE</td>\n",
       "      <td>A waste of my money and the time it took to re...</td>\n",
       "      <td>1.0</td>\n",
       "    </tr>\n",
       "    <tr>\n",
       "      <th>1619138</th>\n",
       "      <td>141430904X</td>\n",
       "      <td>Brady covers up one lie with another as easy a...</td>\n",
       "      <td>2.0</td>\n",
       "    </tr>\n",
       "    <tr>\n",
       "      <th>1619139</th>\n",
       "      <td>038081479X</td>\n",
       "      <td>I was so excited when I found this book, I had...</td>\n",
       "      <td>2.0</td>\n",
       "    </tr>\n",
       "    <tr>\n",
       "      <th>1619140</th>\n",
       "      <td>0553099957</td>\n",
       "      <td>This is the convoluted and captivating story o...</td>\n",
       "      <td>5.0</td>\n",
       "    </tr>\n",
       "    <tr>\n",
       "      <th>1619141</th>\n",
       "      <td>1596688270</td>\n",
       "      <td>My wife has already made a few of the items in...</td>\n",
       "      <td>5.0</td>\n",
       "    </tr>\n",
       "    <tr>\n",
       "      <th>1619142</th>\n",
       "      <td>0312541864</td>\n",
       "      <td>I've not read Lora Leigh before, but had heard...</td>\n",
       "      <td>2.0</td>\n",
       "    </tr>\n",
       "    <tr>\n",
       "      <th>1619143</th>\n",
       "      <td>031621082X</td>\n",
       "      <td>You have a baby and you think she has cancer a...</td>\n",
       "      <td>2.0</td>\n",
       "    </tr>\n",
       "    <tr>\n",
       "      <th>1619144</th>\n",
       "      <td>0316208590</td>\n",
       "      <td>The real Hab Theory was created by Hugh Achinc...</td>\n",
       "      <td>1.0</td>\n",
       "    </tr>\n",
       "    <tr>\n",
       "      <th>1619145</th>\n",
       "      <td>0312599048</td>\n",
       "      <td>This book really gave no insight behind the cr...</td>\n",
       "      <td>1.0</td>\n",
       "    </tr>\n",
       "    <tr>\n",
       "      <th>1619146</th>\n",
       "      <td>B00GLZ29XE</td>\n",
       "      <td>I'm a harsh critic.  Jack, I liked your take a...</td>\n",
       "      <td>1.0</td>\n",
       "    </tr>\n",
       "    <tr>\n",
       "      <th>1619147</th>\n",
       "      <td>0399151729</td>\n",
       "      <td>There's something very disturbing about Paul B...</td>\n",
       "      <td>2.0</td>\n",
       "    </tr>\n",
       "    <tr>\n",
       "      <th>1619148</th>\n",
       "      <td>0312949197</td>\n",
       "      <td>I've read speculative fiction from classic sci...</td>\n",
       "      <td>2.0</td>\n",
       "    </tr>\n",
       "    <tr>\n",
       "      <th>1619149</th>\n",
       "      <td>B00AVWGKJ2</td>\n",
       "      <td>It didn't even take me ONE hour to read this b...</td>\n",
       "      <td>1.0</td>\n",
       "    </tr>\n",
       "    <tr>\n",
       "      <th>1619150</th>\n",
       "      <td>0060838582</td>\n",
       "      <td>This book is both distrubing and disconcerting...</td>\n",
       "      <td>1.0</td>\n",
       "    </tr>\n",
       "    <tr>\n",
       "      <th>1619151</th>\n",
       "      <td>0971933413</td>\n",
       "      <td>I strongly do not recommend this book since to...</td>\n",
       "      <td>2.0</td>\n",
       "    </tr>\n",
       "    <tr>\n",
       "      <th>1619152</th>\n",
       "      <td>194036891X</td>\n",
       "      <td>Sissy:  I found this YA storyline to be differ...</td>\n",
       "      <td>4.0</td>\n",
       "    </tr>\n",
       "    <tr>\n",
       "      <th>1619153</th>\n",
       "      <td>B007OWPAY8</td>\n",
       "      <td>The author does a time jump right towards the ...</td>\n",
       "      <td>3.0</td>\n",
       "    </tr>\n",
       "    <tr>\n",
       "      <th>1619154</th>\n",
       "      <td>B0042RUKX4</td>\n",
       "      <td>It was only 99 cents so I can't claim to be ri...</td>\n",
       "      <td>3.0</td>\n",
       "    </tr>\n",
       "    <tr>\n",
       "      <th>1619155</th>\n",
       "      <td>0615885764</td>\n",
       "      <td>Exceptionally fun and thought provoking book. ...</td>\n",
       "      <td>5.0</td>\n",
       "    </tr>\n",
       "    <tr>\n",
       "      <th>1619156</th>\n",
       "      <td>B00KQ1Y1IA</td>\n",
       "      <td>I wouldn't read the whole book even is free be...</td>\n",
       "      <td>1.0</td>\n",
       "    </tr>\n",
       "    <tr>\n",
       "      <th>1619157</th>\n",
       "      <td>1482027534</td>\n",
       "      <td>I'm suspicious when a book has all 5 star revi...</td>\n",
       "      <td>1.0</td>\n",
       "    </tr>\n",
       "    <tr>\n",
       "      <th>1619158</th>\n",
       "      <td>B00CR38TX8</td>\n",
       "      <td>bought it but decided not to read it. might do...</td>\n",
       "      <td>1.0</td>\n",
       "    </tr>\n",
       "    <tr>\n",
       "      <th>1619159</th>\n",
       "      <td>0373125283</td>\n",
       "      <td>He&amp;#8217;d sucked out every last shred of joy ...</td>\n",
       "      <td>1.0</td>\n",
       "    </tr>\n",
       "    <tr>\n",
       "      <th>1619160</th>\n",
       "      <td>0316776963</td>\n",
       "      <td>I'm a tremendous fan of the author. Depending ...</td>\n",
       "      <td>3.0</td>\n",
       "    </tr>\n",
       "    <tr>\n",
       "      <th>1619161</th>\n",
       "      <td>1556114931</td>\n",
       "      <td>I did enjoy the story overall but I felt that ...</td>\n",
       "      <td>2.0</td>\n",
       "    </tr>\n",
       "    <tr>\n",
       "      <th>1619162</th>\n",
       "      <td>1439188181</td>\n",
       "      <td>I got the Kindle edition because it wasn't pri...</td>\n",
       "      <td>3.0</td>\n",
       "    </tr>\n",
       "    <tr>\n",
       "      <th>1619163</th>\n",
       "      <td>1493664522</td>\n",
       "      <td>Not the depth of story I expected. I was looki...</td>\n",
       "      <td>1.0</td>\n",
       "    </tr>\n",
       "    <tr>\n",
       "      <th>1619164</th>\n",
       "      <td>0988273632</td>\n",
       "      <td>I read the entire book.  It was an okay love s...</td>\n",
       "      <td>3.0</td>\n",
       "    </tr>\n",
       "  </tbody>\n",
       "</table>\n",
       "<p>1619165 rows × 3 columns</p>\n",
       "</div>"
      ],
      "text/plain": [
       "               asin                                         reviewText  \\\n",
       "0        0446584703  I loved all of Chelsea Handler's other books b...   \n",
       "1        1494723352  Drunk on Wonderland, I picked up this book. It...   \n",
       "2        B00C83F9R6  I have wanted to do kettlebells for quite some...   \n",
       "3        047146256X  Wow it is sooooo obvious that all thease revie...   \n",
       "4        1451642865  I picked this book up because I heard Deneen B...   \n",
       "5        B00H3M921G  Caleb Donovan, the newest Prophet to the Realm...   \n",
       "6        1492206083  What a beautiful love story!  I loved reading ...   \n",
       "7        B009YLFHXG  This was a great read.. I loved this book. I c...   \n",
       "8        0061057568  I so enjoyed the snappy writing, but by the en...   \n",
       "9        1595145958  Pia is immortal,she is cause to exist with the...   \n",
       "10       0307337332  My daughter's new friend has 6 pugs, and she h...   \n",
       "11       014305760X  Nick Hornby's latest novel is the story of fou...   \n",
       "12       B007IO7C6Q  was a free book at first i wasnt sure i was go...   \n",
       "13       B00AWU7U7O  Interesting story line  the book was a fast re...   \n",
       "14       B009TAQWKE  This book was well written,  but somehow it di...   \n",
       "15       0451223691  This story captured my attention right from th...   \n",
       "16       B00DSAJ7JO  Liked the writing style of the author but not ...   \n",
       "17       1937041182  I enjoyed reading this Trilogy of books very m...   \n",
       "18       1936493446  On the back cover one reads \"Just 6 ingredient...   \n",
       "19       1480054542  Love the town description and the way she desc...   \n",
       "20       1935627988  This is a well done debut novel which starts u...   \n",
       "21       B00A8S6NAA  I read this book in on sitting it is a very sw...   \n",
       "22       0253216567  this book contains a great resource for inform...   \n",
       "23       0679442766  Oh, thank goodness for brick-n-mortar book sto...   \n",
       "24       0425232646  I was worried that due to the fact I hadn't re...   \n",
       "25       1558324240  1.) First of all, this book has no pictures.  ...   \n",
       "26       0151972036  I really was excited about this book. The firs...   \n",
       "27       0440235642  This book is a little verbose. There is a lot ...   \n",
       "28       038534239X  This book beckoned for two reasons: it is the ...   \n",
       "29       0679733787  Having studied Japanese literature for nearly ...   \n",
       "...             ...                                                ...   \n",
       "1619135  030794834X  Trite.  Redundant.  I get it.  Working in the ...   \n",
       "1619136  0373794061  I think I'd rather watch paint dry. I hope I d...   \n",
       "1619137  B008RGU0UE  A waste of my money and the time it took to re...   \n",
       "1619138  141430904X  Brady covers up one lie with another as easy a...   \n",
       "1619139  038081479X  I was so excited when I found this book, I had...   \n",
       "1619140  0553099957  This is the convoluted and captivating story o...   \n",
       "1619141  1596688270  My wife has already made a few of the items in...   \n",
       "1619142  0312541864  I've not read Lora Leigh before, but had heard...   \n",
       "1619143  031621082X  You have a baby and you think she has cancer a...   \n",
       "1619144  0316208590  The real Hab Theory was created by Hugh Achinc...   \n",
       "1619145  0312599048  This book really gave no insight behind the cr...   \n",
       "1619146  B00GLZ29XE  I'm a harsh critic.  Jack, I liked your take a...   \n",
       "1619147  0399151729  There's something very disturbing about Paul B...   \n",
       "1619148  0312949197  I've read speculative fiction from classic sci...   \n",
       "1619149  B00AVWGKJ2  It didn't even take me ONE hour to read this b...   \n",
       "1619150  0060838582  This book is both distrubing and disconcerting...   \n",
       "1619151  0971933413  I strongly do not recommend this book since to...   \n",
       "1619152  194036891X  Sissy:  I found this YA storyline to be differ...   \n",
       "1619153  B007OWPAY8  The author does a time jump right towards the ...   \n",
       "1619154  B0042RUKX4  It was only 99 cents so I can't claim to be ri...   \n",
       "1619155  0615885764  Exceptionally fun and thought provoking book. ...   \n",
       "1619156  B00KQ1Y1IA  I wouldn't read the whole book even is free be...   \n",
       "1619157  1482027534  I'm suspicious when a book has all 5 star revi...   \n",
       "1619158  B00CR38TX8  bought it but decided not to read it. might do...   \n",
       "1619159  0373125283  He&#8217;d sucked out every last shred of joy ...   \n",
       "1619160  0316776963  I'm a tremendous fan of the author. Depending ...   \n",
       "1619161  1556114931  I did enjoy the story overall but I felt that ...   \n",
       "1619162  1439188181  I got the Kindle edition because it wasn't pri...   \n",
       "1619163  1493664522  Not the depth of story I expected. I was looki...   \n",
       "1619164  0988273632  I read the entire book.  It was an okay love s...   \n",
       "\n",
       "         overall  \n",
       "0            4.0  \n",
       "1            3.0  \n",
       "2            5.0  \n",
       "3            1.0  \n",
       "4            5.0  \n",
       "5            5.0  \n",
       "6            5.0  \n",
       "7            4.0  \n",
       "8            3.0  \n",
       "9            2.0  \n",
       "10           5.0  \n",
       "11           3.0  \n",
       "12           5.0  \n",
       "13           1.0  \n",
       "14           1.0  \n",
       "15           5.0  \n",
       "16           3.0  \n",
       "17           5.0  \n",
       "18           5.0  \n",
       "19           4.0  \n",
       "20           4.0  \n",
       "21           4.0  \n",
       "22           4.0  \n",
       "23           1.0  \n",
       "24           4.0  \n",
       "25           3.0  \n",
       "26           2.0  \n",
       "27           3.0  \n",
       "28           2.0  \n",
       "29           2.0  \n",
       "...          ...  \n",
       "1619135      2.0  \n",
       "1619136      1.0  \n",
       "1619137      1.0  \n",
       "1619138      2.0  \n",
       "1619139      2.0  \n",
       "1619140      5.0  \n",
       "1619141      5.0  \n",
       "1619142      2.0  \n",
       "1619143      2.0  \n",
       "1619144      1.0  \n",
       "1619145      1.0  \n",
       "1619146      1.0  \n",
       "1619147      2.0  \n",
       "1619148      2.0  \n",
       "1619149      1.0  \n",
       "1619150      1.0  \n",
       "1619151      2.0  \n",
       "1619152      4.0  \n",
       "1619153      3.0  \n",
       "1619154      3.0  \n",
       "1619155      5.0  \n",
       "1619156      1.0  \n",
       "1619157      1.0  \n",
       "1619158      1.0  \n",
       "1619159      1.0  \n",
       "1619160      3.0  \n",
       "1619161      2.0  \n",
       "1619162      3.0  \n",
       "1619163      1.0  \n",
       "1619164      3.0  \n",
       "\n",
       "[1619165 rows x 3 columns]"
      ]
     },
     "execution_count": 8,
     "metadata": {},
     "output_type": "execute_result"
    },
    {
     "name": "stdout",
     "output_type": "stream",
     "text": [
      "time: 14.5 ms\n"
     ]
    }
   ],
   "source": [
    "df"
   ]
  },
  {
   "cell_type": "markdown",
   "metadata": {},
   "source": [
    "Split into training and testing."
   ]
  },
  {
   "cell_type": "code",
   "execution_count": 9,
   "metadata": {},
   "outputs": [
    {
     "name": "stdout",
     "output_type": "stream",
     "text": [
      "time: 1.19 ms\n"
     ]
    }
   ],
   "source": [
    "# Holdout split\n",
    "split = 0.7\n",
    "d_train = df[:int(split*len(df))]\n",
    "d_test = df[int((1-split)*len(df)):]"
   ]
  },
  {
   "cell_type": "markdown",
   "metadata": {},
   "source": [
    "Now, building the model with Word2Vec.\n",
    "\n",
    "This code is adapted from \"Real World Machine Learning\", by Brink, Richards and Fetherolf\n",
    "The original code did sentiment analysis of movie reviews, with 0 or 1.\n",
    "Changes here include\n",
    "- Changing code to use Python 3\n",
    "- Reviewing 1 to 5 stars instead of good or bad\n",
    "- Using parallel techniques to process text where we can since the dataset is much bigger\n"
   ]
  },
  {
   "cell_type": "markdown",
   "metadata": {},
   "source": [
    "This is a simple function that, for each review, turns it into a list of tokens.\n",
    "\n",
    "Since this is basically a map function, we can parallelize it with multiprocessing.\n",
    "\n",
    "If a list winds up being empty it can mess up functions below, with a list length of 0, so when that happens we insert a neutral word in a list."
   ]
  },
  {
   "cell_type": "code",
   "execution_count": 10,
   "metadata": {},
   "outputs": [
    {
     "name": "stdout",
     "output_type": "stream",
     "text": [
      "time: 3.79 ms\n"
     ]
    }
   ],
   "source": [
    "stop_words = set(['all', \"she'll\", \"don't\", 'being', 'over', 'through', 'yourselves', 'its', 'before', \"he's\", \"when's\", \"we've\", 'had', 'should', \"he'd\", 'to', 'only', \"there's\", 'those', 'under', 'ours', 'has', \"haven't\", 'do', 'them', 'his', \"they'll\", 'very', \"who's\", \"they'd\", 'cannot', \"you've\", 'they', 'not', 'during', 'yourself', 'him', 'nor', \"we'll\", 'did', \"they've\", 'this', 'she', 'each', \"won't\", 'where', \"mustn't\", \"isn't\", \"i'll\", \"why's\", 'because', \"you'd\", 'doing', 'some', 'up', 'are', 'further', 'ourselves', 'out', 'what', 'for', 'while', \"wasn't\", 'does', \"shouldn't\", 'above', 'between', 'be', 'we', 'who', \"you're\", 'were', 'here', 'hers', \"aren't\", 'by', 'both', 'about', 'would', 'of', 'could', 'against', \"i'd\", \"weren't\", \"i'm\", 'or', \"can't\", 'own', 'into', 'whom', 'down', \"hadn't\", \"couldn't\", 'your', \"doesn't\", 'from', \"how's\", 'her', 'their', \"it's\", 'there', 'been', 'why', 'few', 'too', 'themselves', 'was', 'until', 'more', 'himself', \"where's\", \"i've\", 'with', \"didn't\", \"what's\", 'but', 'herself', 'than', \"here's\", 'he', 'me', \"they're\", 'myself', 'these', \"hasn't\", 'below', 'ought', 'theirs', 'my', \"wouldn't\", \"we'd\", 'and', 'then', 'is', 'am', 'it', 'an', 'as', 'itself', 'at', 'have', 'in', 'any', 'if', 'again', 'no', 'that', 'when', 'same', 'how', 'other', 'which', 'you', \"shan't\", 'our', 'after', \"let's\", 'most', 'such', 'on', \"he'll\", 'a', 'off', 'i', \"she'd\", 'yours', \"you'll\", 'so', \"we're\", \"she's\", 'the', \"that's\", 'having', 'once'])\n",
    "\n",
    "def tokenize_one(d):\n",
    "    pattern = re.compile('[\\W_]+', re.UNICODE)\n",
    "    sentence = d.lower().split(\" \") \n",
    "    sentence = [pattern.sub('', w) for w in sentence]\n",
    "    result = [w for w in sentence if w not in stop_words]\n",
    "    # Some sentences are empty, putting NaNs in features, which is bad\n",
    "    return ['read'] if len(result) == 0 else result\n",
    "\n",
    "def tokenize(docs):\n",
    "    pool = mp.Pool(mp.cpu_count())\n",
    "    sentences = pool.map(tokenize_one, [d for d in docs])\n",
    "    pool.close()\n",
    "    \n",
    "    return sentences"
   ]
  },
  {
   "cell_type": "code",
   "execution_count": 11,
   "metadata": {},
   "outputs": [
    {
     "name": "stdout",
     "output_type": "stream",
     "text": [
      "time: 35.2 s\n"
     ]
    }
   ],
   "source": [
    "sentences = tokenize(d_train['reviewText'])"
   ]
  },
  {
   "cell_type": "markdown",
   "metadata": {},
   "source": [
    "Build the Word2Vec model, with as many cpu's as you can for workers"
   ]
  },
  {
   "cell_type": "code",
   "execution_count": 12,
   "metadata": {},
   "outputs": [
    {
     "name": "stdout",
     "output_type": "stream",
     "text": [
      "time: 7min 26s\n"
     ]
    }
   ],
   "source": [
    "model = Word2Vec(sentences, size=300, window=10, min_count=1, sample=1e-3, workers=mp.cpu_count())"
   ]
  },
  {
   "cell_type": "markdown",
   "metadata": {},
   "source": [
    "Save the model for later serving"
   ]
  },
  {
   "cell_type": "code",
   "execution_count": 13,
   "metadata": {},
   "outputs": [
    {
     "name": "stdout",
     "output_type": "stream",
     "text": [
      "time: 11.8 s\n"
     ]
    }
   ],
   "source": [
    "model.init_sims(replace=True)"
   ]
  },
  {
   "cell_type": "code",
   "execution_count": 14,
   "metadata": {},
   "outputs": [
    {
     "name": "stderr",
     "output_type": "stream",
     "text": [
      "/home/rrc/anaconda3/lib/python3.7/site-packages/smart_open/smart_open_lib.py:398: UserWarning: This function is deprecated, use smart_open.open instead. See the migration notes for details: https://github.com/RaRe-Technologies/smart_open/blob/master/README.rst#migrating-to-the-new-open-function\n",
      "  'See the migration notes for details: %s' % _MIGRATION_NOTES_URL\n"
     ]
    },
    {
     "name": "stdout",
     "output_type": "stream",
     "text": [
      "time: 9.21 s\n"
     ]
    }
   ],
   "source": [
    "model.save(data_dir + 'word2vec.model')"
   ]
  },
  {
   "cell_type": "markdown",
   "metadata": {},
   "source": [
    "Generate feature vectors. Average vector of all the words in the document."
   ]
  },
  {
   "cell_type": "code",
   "execution_count": 15,
   "metadata": {},
   "outputs": [
    {
     "name": "stdout",
     "output_type": "stream",
     "text": [
      "time: 1.03 ms\n"
     ]
    }
   ],
   "source": [
    "def featurize_w2v(model, sentences):\n",
    "    f = np.zeros((len(sentences), model.vector_size))\n",
    "    for i,s in enumerate(sentences):\n",
    "        for w in s:\n",
    "            try:\n",
    "                vec = model[w]\n",
    "            except KeyError:\n",
    "                continue\n",
    "            f[i,:] = f[i,:] + vec\n",
    "        f[i,:] = f[i,:] / len(s)\n",
    "    return f"
   ]
  },
  {
   "cell_type": "code",
   "execution_count": 16,
   "metadata": {},
   "outputs": [
    {
     "name": "stderr",
     "output_type": "stream",
     "text": [
      "/home/rrc/anaconda3/lib/python3.7/site-packages/ipykernel_launcher.py:6: DeprecationWarning: Call to deprecated `__getitem__` (Method will be removed in 4.0.0, use self.wv.__getitem__() instead).\n",
      "  \n"
     ]
    },
    {
     "name": "stdout",
     "output_type": "stream",
     "text": [
      "time: 8min 40s\n"
     ]
    }
   ],
   "source": [
    "features_w2v = featurize_w2v(model, sentences)"
   ]
  },
  {
   "cell_type": "markdown",
   "metadata": {},
   "source": [
    "The feature vectors are numpy arrays, let's save them out in case we want to build a model quickly."
   ]
  },
  {
   "cell_type": "code",
   "execution_count": 17,
   "metadata": {},
   "outputs": [
    {
     "name": "stdout",
     "output_type": "stream",
     "text": [
      "time: 3.84 s\n"
     ]
    }
   ],
   "source": [
    "np.save(data_dir + 'fw', features_w2v)"
   ]
  },
  {
   "cell_type": "markdown",
   "metadata": {},
   "source": [
    "Run a RandomForestClassifier on the features and the training data"
   ]
  },
  {
   "cell_type": "code",
   "execution_count": 18,
   "metadata": {},
   "outputs": [
    {
     "data": {
      "text/plain": [
       "RandomForestClassifier(bootstrap=True, class_weight=None, criterion='gini',\n",
       "            max_depth=None, max_features='auto', max_leaf_nodes=None,\n",
       "            min_impurity_decrease=0.0, min_impurity_split=None,\n",
       "            min_samples_leaf=1, min_samples_split=2,\n",
       "            min_weight_fraction_leaf=0.0, n_estimators=100, n_jobs=-1,\n",
       "            oob_score=False, random_state=None, verbose=0,\n",
       "            warm_start=False)"
      ]
     },
     "execution_count": 18,
     "metadata": {},
     "output_type": "execute_result"
    },
    {
     "name": "stdout",
     "output_type": "stream",
     "text": [
      "time: 10min 16s\n"
     ]
    }
   ],
   "source": [
    "forest_model = RandomForestClassifier(n_estimators=100, n_jobs=-1)\n",
    "forest_model.fit(features_w2v, d_train.overall)"
   ]
  },
  {
   "cell_type": "markdown",
   "metadata": {},
   "source": [
    "Save so it can be loaded to serve review predictions."
   ]
  },
  {
   "cell_type": "code",
   "execution_count": 19,
   "metadata": {},
   "outputs": [
    {
     "data": {
      "text/plain": [
       "['/data/datasets/amazon/forest_model.sav']"
      ]
     },
     "execution_count": 19,
     "metadata": {},
     "output_type": "execute_result"
    },
    {
     "name": "stdout",
     "output_type": "stream",
     "text": [
      "time: 39 s\n"
     ]
    }
   ],
   "source": [
    "joblib.dump(forest_model, data_dir + 'forest_model.sav')"
   ]
  },
  {
   "cell_type": "markdown",
   "metadata": {},
   "source": [
    "Test the model."
   ]
  },
  {
   "cell_type": "markdown",
   "metadata": {},
   "source": [
    "Re-index the test data so they line up in comparisons."
   ]
  },
  {
   "cell_type": "code",
   "execution_count": 20,
   "metadata": {},
   "outputs": [
    {
     "name": "stdout",
     "output_type": "stream",
     "text": [
      "time: 187 ms\n"
     ]
    }
   ],
   "source": [
    "d_test = d_test.reset_index(drop=True)"
   ]
  },
  {
   "cell_type": "markdown",
   "metadata": {},
   "source": [
    "Tokenize and featurize the test data."
   ]
  },
  {
   "cell_type": "code",
   "execution_count": 21,
   "metadata": {},
   "outputs": [
    {
     "name": "stdout",
     "output_type": "stream",
     "text": [
      "time: 35.9 s\n"
     ]
    }
   ],
   "source": [
    "test_sentences = tokenize(d_test.reviewText)"
   ]
  },
  {
   "cell_type": "code",
   "execution_count": 22,
   "metadata": {},
   "outputs": [
    {
     "name": "stderr",
     "output_type": "stream",
     "text": [
      "/home/rrc/anaconda3/lib/python3.7/site-packages/ipykernel_launcher.py:6: DeprecationWarning: Call to deprecated `__getitem__` (Method will be removed in 4.0.0, use self.wv.__getitem__() instead).\n",
      "  \n"
     ]
    },
    {
     "name": "stdout",
     "output_type": "stream",
     "text": [
      "time: 8min 44s\n"
     ]
    }
   ],
   "source": [
    "test_features_w2v = featurize_w2v(model, test_sentences)"
   ]
  },
  {
   "cell_type": "markdown",
   "metadata": {},
   "source": [
    "Make predictions!"
   ]
  },
  {
   "cell_type": "code",
   "execution_count": 23,
   "metadata": {},
   "outputs": [
    {
     "name": "stdout",
     "output_type": "stream",
     "text": [
      "time: 21.7 s\n"
     ]
    }
   ],
   "source": [
    "predictions = forest_model.predict_proba(test_features_w2v)"
   ]
  },
  {
   "cell_type": "code",
   "execution_count": 24,
   "metadata": {},
   "outputs": [
    {
     "data": {
      "text/plain": [
       "array([[0.67, 0.1 , 0.07, 0.08, 0.08],\n",
       "       [0.07, 0.79, 0.09, 0.04, 0.01],\n",
       "       [0.01, 0.03, 0.09, 0.84, 0.03],\n",
       "       ...,\n",
       "       [0.12, 0.3 , 0.28, 0.2 , 0.1 ],\n",
       "       [0.16, 0.15, 0.28, 0.23, 0.18],\n",
       "       [0.08, 0.23, 0.32, 0.2 , 0.17]])"
      ]
     },
     "execution_count": 24,
     "metadata": {},
     "output_type": "execute_result"
    },
    {
     "name": "stdout",
     "output_type": "stream",
     "text": [
      "time: 1.95 ms\n"
     ]
    }
   ],
   "source": [
    "predictions"
   ]
  },
  {
   "cell_type": "code",
   "execution_count": 25,
   "metadata": {},
   "outputs": [
    {
     "data": {
      "text/plain": [
       "0          1.0\n",
       "1          2.0\n",
       "2          4.0\n",
       "3          3.0\n",
       "4          5.0\n",
       "5          1.0\n",
       "6          1.0\n",
       "7          2.0\n",
       "8          1.0\n",
       "9          2.0\n",
       "10         4.0\n",
       "11         1.0\n",
       "12         2.0\n",
       "13         2.0\n",
       "14         2.0\n",
       "15         1.0\n",
       "16         2.0\n",
       "17         3.0\n",
       "18         2.0\n",
       "19         1.0\n",
       "20         2.0\n",
       "21         5.0\n",
       "22         1.0\n",
       "23         4.0\n",
       "24         4.0\n",
       "25         3.0\n",
       "26         3.0\n",
       "27         4.0\n",
       "28         3.0\n",
       "29         4.0\n",
       "          ... \n",
       "1133386    2.0\n",
       "1133387    1.0\n",
       "1133388    1.0\n",
       "1133389    2.0\n",
       "1133390    2.0\n",
       "1133391    5.0\n",
       "1133392    5.0\n",
       "1133393    2.0\n",
       "1133394    2.0\n",
       "1133395    1.0\n",
       "1133396    1.0\n",
       "1133397    1.0\n",
       "1133398    2.0\n",
       "1133399    2.0\n",
       "1133400    1.0\n",
       "1133401    1.0\n",
       "1133402    2.0\n",
       "1133403    4.0\n",
       "1133404    3.0\n",
       "1133405    3.0\n",
       "1133406    5.0\n",
       "1133407    1.0\n",
       "1133408    1.0\n",
       "1133409    1.0\n",
       "1133410    1.0\n",
       "1133411    3.0\n",
       "1133412    2.0\n",
       "1133413    3.0\n",
       "1133414    1.0\n",
       "1133415    3.0\n",
       "Name: overall, Length: 1133416, dtype: float64"
      ]
     },
     "execution_count": 25,
     "metadata": {},
     "output_type": "execute_result"
    },
    {
     "name": "stdout",
     "output_type": "stream",
     "text": [
      "time: 14.3 ms\n"
     ]
    }
   ],
   "source": [
    "d_test.overall"
   ]
  },
  {
   "cell_type": "markdown",
   "metadata": {},
   "source": [
    "Do a check in the middle of the data."
   ]
  },
  {
   "cell_type": "code",
   "execution_count": 26,
   "metadata": {},
   "outputs": [
    {
     "name": "stdout",
     "output_type": "stream",
     "text": [
      "2.0, 2, [0.06 0.79 0.07 0.05 0.03]\n",
      "4.0, 4, [0.02 0.01 0.03 0.77 0.17]\n",
      "2.0, 2, [0.09 0.78 0.07 0.05 0.01]\n",
      "5.0, 5, [0.08 0.11 0.06 0.06 0.69]\n",
      "5.0, 5, [0.18 0.07 0.04 0.02 0.69]\n",
      "2.0, 2, [0.13 0.71 0.05 0.03 0.08]\n",
      "4.0, 4, [0.13 0.04 0.02 0.78 0.03]\n",
      "3.0, 3, [0.05 0.03 0.75 0.13 0.04]\n",
      "5.0, 5, [0.05 0.03 0.1  0.03 0.79]\n",
      "3.0, 3, [0.06 0.09 0.75 0.06 0.04]\n",
      "3.0, 3, [0.02 0.06 0.68 0.07 0.17]\n",
      "5.0, 5, [0.01 0.01 0.03 0.1  0.85]\n",
      "3.0, 3, [0.04 0.11 0.76 0.07 0.02]\n",
      "4.0, 4, [0.02 0.   0.02 0.78 0.18]\n",
      "2.0, 2, [0.09 0.75 0.1  0.02 0.04]\n",
      "1.0, 1, [0.88 0.1  0.02 0.   0.  ]\n",
      "5.0, 5, [0.01 0.01 0.03 0.04 0.91]\n",
      "2.0, 2, [0.05 0.69 0.1  0.1  0.06]\n",
      "1.0, 1, [0.81 0.12 0.05 0.01 0.01]\n",
      "5.0, 5, [0.   0.01 0.07 0.12 0.8 ]\n",
      "4.0, 4, [0.06 0.05 0.08 0.77 0.04]\n",
      "1.0, 1, [0.75 0.07 0.06 0.03 0.09]\n",
      "5.0, 5, [0.05 0.02 0.   0.02 0.91]\n",
      "1.0, 1, [0.84 0.11 0.04 0.   0.01]\n",
      "2.0, 2, [0.14 0.71 0.09 0.05 0.01]\n",
      "2.0, 2, [0.02 0.72 0.14 0.08 0.04]\n",
      "2.0, 2, [0.04 0.77 0.09 0.08 0.02]\n",
      "3.0, 3, [0.01 0.03 0.76 0.17 0.03]\n",
      "5.0, 5, [0.09 0.09 0.05 0.11 0.66]\n",
      "5.0, 5, [0.07 0.07 0.04 0.06 0.76]\n",
      "2.0, 2, [0.08 0.77 0.03 0.05 0.07]\n",
      "5.0, 5, [0.02 0.03 0.05 0.1  0.8 ]\n",
      "5.0, 5, [0.16 0.04 0.05 0.01 0.74]\n",
      "5.0, 5, [0.02 0.05 0.09 0.14 0.7 ]\n",
      "1.0, 1, [0.74 0.2  0.04 0.   0.02]\n",
      "5.0, 5, [0.03 0.   0.05 0.1  0.82]\n",
      "5.0, 5, [0.06 0.08 0.02 0.1  0.74]\n",
      "5.0, 5, [0.03 0.05 0.05 0.13 0.74]\n",
      "5.0, 5, [0.01 0.01 0.03 0.08 0.87]\n",
      "1.0, 1, [0.71 0.06 0.06 0.08 0.09]\n",
      "4.0, 4, [0.01 0.06 0.11 0.72 0.1 ]\n",
      "1.0, 1, [0.81 0.12 0.03 0.02 0.02]\n",
      "2.0, 2, [0.14 0.74 0.08 0.02 0.02]\n",
      "5.0, 5, [0.01 0.   0.04 0.15 0.8 ]\n",
      "4.0, 4, [0.02 0.03 0.12 0.74 0.09]\n",
      "4.0, 4, [0.03 0.07 0.16 0.69 0.05]\n",
      "1.0, 1, [0.66 0.17 0.11 0.04 0.02]\n",
      "2.0, 2, [0.1  0.69 0.08 0.08 0.05]\n",
      "2.0, 2, [0.03 0.68 0.12 0.11 0.06]\n",
      "3.0, 3, [0.04 0.12 0.73 0.07 0.04]\n",
      "1.0, 1, [0.81 0.1  0.02 0.04 0.03]\n",
      "1.0, 1, [0.71 0.07 0.11 0.07 0.04]\n",
      "1.0, 1, [0.74 0.07 0.05 0.04 0.1 ]\n",
      "1.0, 1, [0.75 0.14 0.08 0.01 0.02]\n",
      "5.0, 5, [0.05 0.07 0.07 0.09 0.72]\n",
      "1.0, 1, [0.79 0.09 0.08 0.01 0.03]\n",
      "5.0, 5, [0.02 0.03 0.01 0.19 0.75]\n",
      "4.0, 4, [0.04 0.04 0.1  0.68 0.14]\n",
      "3.0, 3, [0.   0.04 0.68 0.13 0.15]\n",
      "4.0, 4, [0.   0.02 0.09 0.81 0.08]\n",
      "2.0, 2, [0.02 0.71 0.11 0.1  0.06]\n",
      "1.0, 1, [0.76 0.16 0.05 0.02 0.01]\n",
      "4.0, 4, [0.03 0.03 0.2  0.7  0.04]\n",
      "2.0, 2, [0.12 0.7  0.07 0.05 0.06]\n",
      "3.0, 3, [0.01 0.01 0.8  0.07 0.11]\n",
      "5.0, 5, [0.02 0.02 0.07 0.11 0.78]\n",
      "4.0, 4, [0.02 0.02 0.02 0.78 0.16]\n",
      "5.0, 5, [0.01 0.04 0.04 0.15 0.76]\n",
      "1.0, 1, [0.91 0.03 0.03 0.01 0.02]\n",
      "1.0, 1, [0.81 0.13 0.04 0.01 0.01]\n",
      "4.0, 4, [0.   0.04 0.07 0.76 0.13]\n",
      "2.0, 2, [0.04 0.74 0.15 0.05 0.02]\n",
      "3.0, 3, [0.04 0.08 0.63 0.13 0.12]\n",
      "2.0, 2, [0.07 0.75 0.13 0.02 0.03]\n",
      "4.0, 4, [0.08 0.07 0.12 0.69 0.04]\n",
      "1.0, 1, [0.91 0.05 0.02 0.   0.02]\n",
      "1.0, 1, [0.86 0.06 0.02 0.03 0.03]\n",
      "2.0, 2, [0.02 0.73 0.17 0.07 0.01]\n",
      "5.0, 5, [0.02 0.04 0.05 0.12 0.77]\n",
      "4.0, 4, [0.02 0.03 0.1  0.78 0.07]\n",
      "4.0, 4, [0.   0.01 0.06 0.79 0.14]\n",
      "1.0, 1, [0.77 0.17 0.06 0.   0.  ]\n",
      "2.0, 2, [0.   0.62 0.03 0.13 0.22]\n",
      "2.0, 2, [0.04 0.69 0.16 0.07 0.04]\n",
      "2.0, 2, [0.03 0.74 0.13 0.08 0.02]\n",
      "4.0, 4, [0.01 0.04 0.06 0.77 0.12]\n",
      "4.0, 4, [0.07 0.16 0.06 0.66 0.05]\n",
      "1.0, 1, [0.65 0.1  0.1  0.1  0.05]\n",
      "3.0, 3, [0.05 0.13 0.76 0.04 0.02]\n",
      "1.0, 1, [0.87 0.08 0.03 0.   0.02]\n",
      "3.0, 3, [0.08 0.1  0.79 0.02 0.01]\n",
      "1.0, 1, [0.76 0.11 0.08 0.04 0.01]\n",
      "4.0, 4, [0.01 0.06 0.03 0.74 0.16]\n",
      "3.0, 3, [0.07 0.1  0.68 0.09 0.06]\n",
      "2.0, 2, [0.07 0.78 0.08 0.04 0.03]\n",
      "1.0, 1, [0.8  0.12 0.06 0.01 0.01]\n",
      "2.0, 2, [0.01 0.79 0.12 0.08 0.  ]\n",
      "5.0, 5, [0.09 0.14 0.06 0.05 0.66]\n",
      "3.0, 3, [0.06 0.09 0.77 0.04 0.04]\n",
      "3.0, 3, [0.02 0.03 0.81 0.12 0.02]\n",
      "2.0, 2, [0.08 0.75 0.07 0.04 0.06]\n",
      "1.0, 1, [0.75 0.09 0.05 0.06 0.05]\n",
      "5.0, 5, [0.04 0.02 0.08 0.09 0.77]\n",
      "5.0, 5, [0.01 0.01 0.03 0.2  0.75]\n",
      "1.0, 1, [0.85 0.1  0.03 0.   0.02]\n",
      "4.0, 4, [0.   0.01 0.03 0.76 0.2 ]\n",
      "4.0, 4, [0.05 0.11 0.09 0.71 0.04]\n",
      "3.0, 3, [0.03 0.04 0.69 0.15 0.09]\n",
      "3.0, 3, [0.07 0.12 0.71 0.04 0.06]\n",
      "4.0, 4, [0.01 0.01 0.07 0.77 0.14]\n",
      "4.0, 4, [0.   0.03 0.11 0.78 0.08]\n",
      "5.0, 5, [0.   0.02 0.09 0.18 0.71]\n",
      "4.0, 4, [0.   0.03 0.04 0.86 0.07]\n",
      "4.0, 4, [0.12 0.11 0.11 0.66 0.  ]\n",
      "4.0, 4, [0.04 0.01 0.1  0.71 0.14]\n",
      "4.0, 4, [0.04 0.04 0.06 0.74 0.12]\n",
      "4.0, 4, [0.05 0.02 0.09 0.79 0.05]\n",
      "2.0, 2, [0.04 0.67 0.09 0.06 0.14]\n",
      "4.0, 4, [0.01 0.03 0.04 0.82 0.1 ]\n",
      "2.0, 2, [0.13 0.74 0.08 0.01 0.04]\n",
      "3.0, 3, [0.09 0.13 0.76 0.02 0.  ]\n",
      "1.0, 1, [0.73 0.13 0.06 0.07 0.01]\n",
      "5.0, 5, [0.08 0.05 0.04 0.06 0.77]\n",
      "1.0, 1, [0.86 0.11 0.02 0.01 0.  ]\n",
      "2.0, 2, [0.15 0.63 0.07 0.05 0.1 ]\n",
      "1.0, 1, [0.75 0.06 0.08 0.04 0.07]\n",
      "3.0, 3, [0.19 0.15 0.63 0.01 0.02]\n",
      "1.0, 1, [0.74 0.1  0.1  0.04 0.02]\n",
      "1.0, 1, [0.78 0.1  0.04 0.04 0.04]\n",
      "5.0, 5, [0.   0.01 0.08 0.17 0.74]\n",
      "4.0, 4, [0.05 0.09 0.11 0.72 0.03]\n",
      "4.0, 4, [0.07 0.08 0.09 0.71 0.05]\n",
      "3.0, 3, [0.01 0.04 0.78 0.16 0.01]\n",
      "5.0, 5, [0.05 0.06 0.03 0.08 0.78]\n",
      "2.0, 2, [0.04 0.73 0.1  0.09 0.04]\n",
      "5.0, 5, [0.12 0.13 0.08 0.05 0.62]\n",
      "5.0, 5, [0.15 0.06 0.08 0.02 0.69]\n",
      "2.0, 2, [0.2  0.72 0.06 0.02 0.  ]\n",
      "3.0, 3, [0.02 0.08 0.81 0.08 0.01]\n",
      "3.0, 3, [0.03 0.15 0.74 0.06 0.02]\n",
      "4.0, 4, [0.   0.05 0.08 0.76 0.11]\n",
      "3.0, 3, [0.01 0.06 0.73 0.1  0.1 ]\n",
      "2.0, 2, [0.14 0.72 0.1  0.01 0.03]\n",
      "1.0, 1, [0.71 0.08 0.09 0.08 0.04]\n",
      "3.0, 3, [0.15 0.09 0.69 0.05 0.02]\n",
      "5.0, 5, [0.05 0.05 0.03 0.12 0.75]\n",
      "2.0, 2, [0.06 0.8  0.11 0.02 0.01]\n",
      "4.0, 4, [0.01 0.01 0.02 0.78 0.18]\n",
      "4.0, 4, [0.02 0.03 0.04 0.81 0.1 ]\n",
      "4.0, 4, [0.03 0.04 0.12 0.71 0.1 ]\n",
      "2.0, 2, [0.11 0.78 0.07 0.03 0.01]\n",
      "5.0, 5, [0.04 0.09 0.11 0.11 0.65]\n",
      "2.0, 2, [0.04 0.84 0.03 0.01 0.08]\n",
      "5.0, 5, [0.08 0.07 0.09 0.12 0.64]\n",
      "4.0, 4, [0.   0.01 0.05 0.76 0.18]\n",
      "3.0, 3, [0.17 0.06 0.73 0.02 0.02]\n",
      "4.0, 4, [0.13 0.06 0.09 0.72 0.  ]\n",
      "2.0, 2, [0.16 0.76 0.04 0.02 0.02]\n",
      "1.0, 1, [0.82 0.14 0.04 0.   0.  ]\n",
      "2.0, 2, [0.02 0.67 0.08 0.09 0.14]\n",
      "4.0, 4, [0.02 0.15 0.17 0.65 0.01]\n",
      "2.0, 2, [0.04 0.67 0.17 0.08 0.04]\n",
      "5.0, 5, [0.03 0.02 0.05 0.13 0.77]\n",
      "4.0, 4, [0.04 0.11 0.12 0.71 0.02]\n",
      "5.0, 5, [0.03 0.1  0.07 0.07 0.73]\n",
      "3.0, 3, [0.04 0.11 0.75 0.04 0.06]\n",
      "5.0, 5, [0.01 0.02 0.02 0.12 0.83]\n",
      "3.0, 3, [0.05 0.02 0.73 0.12 0.08]\n",
      "5.0, 5, [0.03 0.01 0.03 0.04 0.89]\n",
      "3.0, 3, [0.06 0.07 0.79 0.03 0.05]\n",
      "2.0, 2, [0.07 0.79 0.07 0.03 0.04]\n",
      "4.0, 4, [0.02 0.04 0.1  0.77 0.07]\n",
      "1.0, 1, [0.74 0.18 0.07 0.01 0.  ]\n",
      "3.0, 3, [0.01 0.05 0.82 0.05 0.07]\n",
      "5.0, 5, [0.01 0.04 0.04 0.12 0.79]\n",
      "1.0, 1, [0.69 0.07 0.09 0.07 0.08]\n",
      "3.0, 3, [0.1  0.08 0.78 0.03 0.01]\n",
      "4.0, 4, [0.03 0.03 0.15 0.79 0.  ]\n",
      "3.0, 3, [0.06 0.1  0.71 0.12 0.01]\n",
      "1.0, 1, [0.78 0.09 0.07 0.04 0.02]\n",
      "4.0, 4, [0.05 0.1  0.1  0.73 0.02]\n",
      "1.0, 1, [0.81 0.09 0.06 0.04 0.  ]\n",
      "1.0, 1, [0.75 0.12 0.1  0.02 0.01]\n",
      "4.0, 4, [0.05 0.04 0.06 0.76 0.09]\n",
      "1.0, 1, [0.66 0.08 0.05 0.12 0.09]\n",
      "4.0, 4, [0.14 0.04 0.04 0.67 0.11]\n",
      "2.0, 2, [0.03 0.71 0.11 0.09 0.06]\n",
      "5.0, 5, [0.1  0.07 0.06 0.08 0.69]\n",
      "4.0, 4, [0.05 0.1  0.07 0.72 0.06]\n",
      "5.0, 5, [0.01 0.   0.06 0.08 0.85]\n",
      "5.0, 5, [0.   0.01 0.   0.05 0.94]\n",
      "3.0, 3, [0.07 0.08 0.72 0.07 0.06]\n",
      "5.0, 5, [0.01 0.01 0.11 0.13 0.74]\n",
      "4.0, 4, [0.03 0.05 0.08 0.78 0.06]\n",
      "5.0, 5, [0.02 0.03 0.01 0.05 0.89]\n",
      "4.0, 4, [0.   0.01 0.07 0.77 0.15]\n",
      "1.0, 1, [0.65 0.05 0.14 0.08 0.08]\n",
      "1.0, 1, [0.95 0.04 0.01 0.   0.  ]\n",
      "3.0, 3, [0.05 0.08 0.8  0.06 0.01]\n",
      "5.0, 5, [0.   0.04 0.05 0.13 0.78]\n",
      "time: 63.2 ms\n"
     ]
    }
   ],
   "source": [
    "for index in range(50000, 50200):\n",
    "    print(\"{}, {}, {}\".format(d_test.overall[index], np.argmax(predictions[index]) + 1, predictions[index]))"
   ]
  },
  {
   "cell_type": "markdown",
   "metadata": {},
   "source": [
    "Other checks, graphs."
   ]
  },
  {
   "cell_type": "code",
   "execution_count": 27,
   "metadata": {},
   "outputs": [
    {
     "name": "stdout",
     "output_type": "stream",
     "text": [
      "time: 1.09 ms\n"
     ]
    }
   ],
   "source": [
    "def performance(y_true, pred, index, color=\"g\", ann=True):\n",
    "    acc = accuracy_score(y_true, pred[:,index] > 0.5)\n",
    "    auc = roc_auc_score(y_true, pred[:,index])\n",
    "    fpr, tpr, thr = roc_curve(y_true, pred[:,index])\n",
    "    plot(fpr, tpr, color, linewidth=\"3\")\n",
    "    xlabel(\"False positive rate\")\n",
    "    ylabel(\"True positive rate\")\n",
    "    if ann:\n",
    "        annotate(\"Acc: %0.2f\" % acc, (0.1,0.8), size=14)\n",
    "        annotate(\"AUC: %0.2f\" % auc, (0.1,0.7), size=14)"
   ]
  },
  {
   "cell_type": "code",
   "execution_count": 28,
   "metadata": {},
   "outputs": [
    {
     "data": {
      "text/plain": [
       "(0, 0.3)"
      ]
     },
     "execution_count": 28,
     "metadata": {},
     "output_type": "execute_result"
    },
    {
     "data": {
      "image/png": "[encoded data removed]",
      "text/plain": [
       "<Figure size 432x288 with 1 Axes>"
      ]
     },
     "metadata": {
      "needs_background": "light"
     },
     "output_type": "display_data"
    },
    {
     "name": "stdout",
     "output_type": "stream",
     "text": [
      "time: 591 ms\n"
     ]
    }
   ],
   "source": [
    "performance(d_test.overall == 1.0, predictions, 0, color=\"c\")\n",
    "xlim(0,0.3)"
   ]
  },
  {
   "cell_type": "code",
   "execution_count": 29,
   "metadata": {},
   "outputs": [
    {
     "data": {
      "text/plain": [
       "(0, 0.3)"
      ]
     },
     "execution_count": 29,
     "metadata": {},
     "output_type": "execute_result"
    },
    {
     "data": {
      "image/png": "[encoded data removed]",
      "text/plain": [
       "<Figure size 432x288 with 1 Axes>"
      ]
     },
     "metadata": {
      "needs_background": "light"
     },
     "output_type": "display_data"
    },
    {
     "name": "stdout",
     "output_type": "stream",
     "text": [
      "time: 543 ms\n"
     ]
    }
   ],
   "source": [
    "performance(d_test.overall == 2.0, predictions, 1, color=\"c\")\n",
    "xlim(0,0.3)"
   ]
  },
  {
   "cell_type": "code",
   "execution_count": 30,
   "metadata": {},
   "outputs": [
    {
     "data": {
      "text/plain": [
       "(0, 0.3)"
      ]
     },
     "execution_count": 30,
     "metadata": {},
     "output_type": "execute_result"
    },
    {
     "data": {
      "image/png": "[encoded data removed]",
      "text/plain": [
       "<Figure size 432x288 with 1 Axes>"
      ]
     },
     "metadata": {
      "needs_background": "light"
     },
     "output_type": "display_data"
    },
    {
     "name": "stdout",
     "output_type": "stream",
     "text": [
      "time: 536 ms\n"
     ]
    }
   ],
   "source": [
    "performance(d_test.overall == 3.0, predictions, 2, color=\"c\")\n",
    "xlim(0,0.3)"
   ]
  },
  {
   "cell_type": "code",
   "execution_count": 31,
   "metadata": {},
   "outputs": [
    {
     "data": {
      "text/plain": [
       "(0, 0.3)"
      ]
     },
     "execution_count": 31,
     "metadata": {},
     "output_type": "execute_result"
    },
    {
     "data": {
      "image/png": "[encoded data removed]",
      "text/plain": [
       "<Figure size 432x288 with 1 Axes>"
      ]
     },
     "metadata": {
      "needs_background": "light"
     },
     "output_type": "display_data"
    },
    {
     "name": "stdout",
     "output_type": "stream",
     "text": [
      "time: 547 ms\n"
     ]
    }
   ],
   "source": [
    "performance(d_test.overall == 4.0, predictions, 3, color=\"c\")\n",
    "xlim(0,0.3)"
   ]
  },
  {
   "cell_type": "code",
   "execution_count": 32,
   "metadata": {},
   "outputs": [
    {
     "data": {
      "text/plain": [
       "(0, 0.3)"
      ]
     },
     "execution_count": 32,
     "metadata": {},
     "output_type": "execute_result"
    },
    {
     "data": {
      "image/png": "[encoded data removed]",
      "text/plain": [
       "<Figure size 432x288 with 1 Axes>"
      ]
     },
     "metadata": {
      "needs_background": "light"
     },
     "output_type": "display_data"
    },
    {
     "name": "stdout",
     "output_type": "stream",
     "text": [
      "time: 552 ms\n"
     ]
    }
   ],
   "source": [
    "performance(d_test.overall == 5.0, predictions, 4, color=\"c\")\n",
    "xlim(0,0.3)"
   ]
  },
  {
   "cell_type": "code",
   "execution_count": null,
   "metadata": {},
   "outputs": [],
   "source": []
  }
 ],
 "metadata": {
  "kernelspec": {
   "display_name": "Python 3",
   "language": "python",
   "name": "python3"
  },
  "language_info": {
   "codemirror_mode": {
    "name": "ipython",
    "version": 3
   },
   "file_extension": ".py",
   "mimetype": "text/x-python",
   "name": "python",
   "nbconvert_exporter": "python",
   "pygments_lexer": "ipython3",
   "version": "3.7.3"
  }
 },
 "nbformat": 4,
 "nbformat_minor": 2
}
